{
 "cells": [
  {
   "cell_type": "markdown",
   "source": [
    "task0：自然语言处理之PyTorch情感分析简介\n",
    "\n",
    "1.按照教程安装配置好了情感分析所需要的环境\n",
    "\n",
    "2.了解了本次情感分析课程的大致内容，对于后面的学习内容有了一个比较清晰的认识和规划\n",
    "\n",
    "3.测试了配置好的环境，一切准备就绪，静静等待接下来的课程 "
   ],
   "metadata": {}
  }
 ],
 "metadata": {
  "orig_nbformat": 4,
  "language_info": {
   "name": "python",
   "version": "3.8.3"
  },
  "kernelspec": {
   "name": "python3",
   "display_name": "Python 3.8.3 64-bit ('pytorch': conda)"
  },
  "interpreter": {
   "hash": "e1b3a95cfdc12ed06ded5b7833ea8aa5c3cf1cc2ae75b7c45785d4054ffd90c0"
  }
 },
 "nbformat": 4,
 "nbformat_minor": 2
}